{
 "cells": [
  {
   "attachments": {},
   "cell_type": "markdown",
   "metadata": {},
   "source": [
    "#1.What is an algorithm?\n",
    "    An algorithm is a series of steps to solve a problem.\n",
    "\n",
    "#2.Variable names may not start with certain characters - name two.\n",
    "    A Variable name maynot start with numbers, a variable can't start with special characters(except _)\n",
    "    \n",
    "\n",
    "#3.What is a Semantic error?\n",
    "    Code is gramatically correct but doesn't make sense, it doesn't produce the expected result.\n",
    "\n",
    "#4.What is the #1 rule of coding / debugging?\n",
    "    Complexity is the enemy of efficiency.\n",
    "\n",
    "#5.List 5 Python reserved words.\n",
    "    FALSE,\n",
    "    DEF,\n",
    "    IF,\n",
    "    RAISE,\n",
    "    TRUE."
   ]
  },
  {
   "cell_type": "code",
   "execution_count": 6,
   "metadata": {},
   "outputs": [
    {
     "name": "stdout",
     "output_type": "stream",
     "text": [
      "The length of the string: 8\n",
      "The index value of the 4th character in string is: t\n",
      "string from the beginning of ing up to before and: ing Data Analytics\n",
      "Replacing awesome with great: Learning Data Analytics and python is Great!\n",
      "Yes, 'python' is present.\n",
      "my name is: Dhana, I'm 3ft and 5 old today\n",
      "casting from int to float: 5.0\n"
     ]
    }
   ],
   "source": [
    "#3.1 Homework\n",
    "\"\"\"\n",
    "My name is Dhanalakshmi Bhuma\n",
    "My favorite food is Chicken biryani\n",
    "Data Analyst\n",
    "\n",
    "\"\"\"\n",
    "\n",
    "a = \"Bootcamp\"\n",
    "b = 10\n",
    "c = 24.2\n",
    "d = True\n",
    "e = {\"id\":12, \"name\":\"dhana\"}\n",
    "\n",
    "print(\"The length of the string:\",len(a))\n",
    "print(\"The index value of the 4th character in string is:\",a[3])\n",
    "\n",
    "savvy = \"Learning Data Analytics and python is Awesome!\"\n",
    "\n",
    "print(\"string from the beginning of ing up to before and:\",savvy[5:23])\n",
    "print(\"Replacing awesome with great:\",savvy.replace(\"Awesome\",\"Great\"))\n",
    "\n",
    "if \"python\" in savvy:\n",
    "    print(\"Yes, 'python' is present.\")\n",
    "\n",
    "name, age, length = \"Dhana\", 5, \"3ft\"\n",
    "\n",
    "MiniBio = print(f\"my name is: {name}, I'm {length} and {age} old today\")\n",
    "\n",
    "cast = float(age)\n",
    "print(\"casting from int to float:\",cast)\n",
    "\n"
   ]
  },
  {
   "cell_type": "code",
   "execution_count": 19,
   "metadata": {},
   "outputs": [
    {
     "name": "stdout",
     "output_type": "stream",
     "text": [
      "['apples', 20, None, True, b'hello']\n",
      "Replacing b'hello': ['apples', 20, None, True, 11.2]\n",
      "appending list: ['apples', 20, None, True, 11.2, b'hello', ['a', 'b', 'c'], ('toyota', 'Honda'), {'dessert': 'icecreame'}]\n",
      "length of the list: 9\n",
      "second list: [True, 11.2, b'hello', ['a', 'b', 'c'], ('toyota', 'Honda'), {'dessert': 'icecreame'}]\n",
      "extended list: ['apples', 20, None, True, 11.2, b'hello', ['a', 'b', 'c'], ('toyota', 'Honda'), {'dessert': 'icecreame'}, True, 11.2, b'hello', ['a', 'b', 'c'], ('toyota', 'Honda'), {'dessert': 'icecreame'}]\n",
      "sorted simlist: [3, 6, 23, 34, 54, 89]\n",
      "fourth list: [True, 11.2, b'hello', ['a', 'b', 'c'], ('toyota', 'Honda'), {'dessert': 'icecreame'}, 3, 6, 23, 34, 54, 89]\n"
     ]
    }
   ],
   "source": [
    "#3.2 Homework \n",
    "#creating lists and applying some functions on lists\n",
    "\n",
    "flist = [\"apples\", 20, None, True, b\"hello\" ]\n",
    "print(flist)\n",
    "flist[4] = 11.2\n",
    "print(\"Replacing b'hello':\", flist)\n",
    "flist.append(b\"hello\")\n",
    "flist.append(['a','b','c'])\n",
    "flist.append((\"toyota\",\"Honda\"))\n",
    "flist.append({'dessert':'icecreame'})\n",
    "print(\"appending list:\", flist)\n",
    "print(\"length of the list:\",len(flist))\n",
    "\n",
    "slist = flist[3:]\n",
    "print(\"second list:\",slist)\n",
    "flist.extend(slist)\n",
    "print(\"extended list:\", flist)\n",
    "\n",
    "simList = [3, 6, 89, 54, 34, 23]\n",
    "simList.sort()\n",
    "print(\"sorted simlist:\",simList)\n",
    "tlist = simList.copy()\n",
    "\n",
    "forthlist = slist + tlist\n",
    "\n",
    "print(\"fourth list:\", forthlist)\n",
    "\n",
    "\n",
    "\n"
   ]
  },
  {
   "cell_type": "code",
   "execution_count": 26,
   "metadata": {},
   "outputs": [
    {
     "name": "stdout",
     "output_type": "stream",
     "text": [
      "second Tuple: (9, 8, 7, 6, 5, 9, 8, 7, 6, 5, 9, 8, 7, 6, 5)\n",
      "Printing 12th element: 8\n",
      "The sorted 2Tuple: [5, 5, 5, 6, 6, 6, 7, 7, 7, 8, 8, 8, 9, 9, 9]\n",
      "third Tuple: (8, 7, 6, 5)\n",
      "printing unpack variable from 3Tuple: 8 7 6 5\n",
      "Fourth Tuple: (8,)\n",
      "Fifth Tuple: (9, 8, 7, 6, 5, 9, 8, 7, 6, 5, 9, 8, 7, 6, 5, 9, 8, 7, 6, 5)\n"
     ]
    }
   ],
   "source": [
    "#Tuples example and applying some functions\n",
    "\n",
    "fTuple = (9, 8, 7, 6, 5)\n",
    "sTuple = fTuple * 3\n",
    "print(\"second Tuple:\",sTuple)\n",
    "print(\"Printing 12th element:\",sTuple[11])\n",
    "s = sorted(sTuple)\n",
    "print(\"The sorted 2Tuple:\",s)\n",
    "tTuple = sTuple[1:5]\n",
    "#tTuple = sTuple[4:6]\n",
    "print(\"third Tuple:\",tTuple)\n",
    "n1, n2, n3, n4 = tTuple\n",
    "print(\"printing unpack variable from 3Tuple:\", n1, n2, n3, n4)\n",
    "fourthTuple = (50,)\n",
    "print(\"Fourth Tuple:\",fourthTuple)\n",
    "fifthTuple = fTuple + sTuple\n",
    "print(\"Fifth Tuple:\",fifthTuple)\n",
    "\n",
    "\n",
    "\n",
    "\n"
   ]
  },
  {
   "cell_type": "code",
   "execution_count": 27,
   "metadata": {},
   "outputs": [
    {
     "name": "stdout",
     "output_type": "stream",
     "text": [
      "after adding list to the set: {'Toyota', 'volvo', 'apple', 'Honda', 'cherry', 'kiwi'}\n",
      "after adding car element: {'Toyota', 'volvo', 'apple', 'Honda', 'cherry', 'kiwi'}\n",
      "After union fset ans sset: {'tennis', 'Toyota', 'basketball', 'volvo', 'swimming', 'apple', 'Honda', 'soccer', 'cherry', 'kiwi'}\n",
      "After pop: {'soccer', 'basketball', 'swimming'}\n",
      "After clear: set()\n",
      "After discard and remove: {'tennis', 'basketball', 'volvo', 'swimming', 'apple', 'Honda', 'soccer', 'kiwi'}\n"
     ]
    }
   ],
   "source": [
    "#creating set and applying some functions\n",
    "\n",
    "Fset = {\"Toyota\",\"Honda\",\"volvo\"}\n",
    "list1 = [\"apple\",\"cherry\",\"kiwi\"]\n",
    "\n",
    "Fset.update(list1)\n",
    "\n",
    "print(\"after adding list to the set:\",Fset)\n",
    "\n",
    "Fset.add(\"Honda\")\n",
    "print(\"after adding car element:\",Fset)\n",
    "\n",
    "Sset = {\"soccer\", \"basketball\", \"tennis\",\"swimming\"}\n",
    "\n",
    "Tset = Fset.union(Sset)\n",
    "print(\"After union fset ans sset:\",Tset)\n",
    "\n",
    "Sset.pop()\n",
    "print(\"After pop:\",Sset)\n",
    "Fset.clear()\n",
    "print(\"After clear:\",Fset)\n",
    "\n",
    "Tset.discard(\"Toyota\")\n",
    "Tset.remove(\"cherry\")\n",
    "\n",
    "print(\"After discard and remove:\",Tset)\n",
    "\n"
   ]
  },
  {
   "cell_type": "code",
   "execution_count": 31,
   "metadata": {},
   "outputs": [
    {
     "name": "stdout",
     "output_type": "stream",
     "text": [
      "printing the value: 1234\n",
      "\n",
      " after changing the active value: {'id': 1, 'Fname': 'Dhanalakshmi Bhuma', 'cell': 1234, 'tall': 5.9, 'active': False}\n",
      "\n",
      "after adding th new key;value: {'id': 1, 'Fname': 'Dhanalakshmi Bhuma', 'cell': 1234, 'tall': 5.9, 'active': False, 'favcolor': 'Orange'}\n",
      "After adding the list to the dictionary: {'id': 1, 'Fname': 'Dhanalakshmi Bhuma', 'cell': 1234, 'tall': 5.9, 'active': False, 'favcolor': 'Orange', 'favplaces': ['smoky mountains', 'chicago', 'Branson']}\n",
      "Printing keys: dict_keys(['id', 'Fname', 'cell', 'tall', 'active', 'favcolor', 'favplaces'])\n",
      "printing values: dict_values([1, 'Dhanalakshmi Bhuma', 1234, 5.9, False, 'Orange', ['smoky mountains', 'chicago', 'Branson']])\n",
      "2dictionary after pop: {'id': 1, 'Fname': 'Dhanalakshmi Bhuma', 'cell': 1234, 'tall': 5.9, 'favcolor': 'Orange', 'favplaces': ['smoky mountains', 'chicago', 'Branson']}\n",
      "\n",
      " 2dictionary after clear {}\n"
     ]
    }
   ],
   "source": [
    "#Dictionaries and applying some functions\n",
    "\n",
    "FDict = {\n",
    "    \"id\": 1, \n",
    "    \"Fname\": \"Neeru\",\n",
    "    \"cell\" : 1234 , \n",
    "    \"tall\" : 5.9,\n",
    "    \"active\": True\n",
    "    \n",
    "}\n",
    "a = FDict[\"cell\"]\n",
    "print(\"printing the value of key:\",a)\n",
    "FDict[\"Fname\"] = 'Dhanalakshmi Bhuma'\n",
    "FDict[\"active\"] = False\n",
    "print(\"\\n after changing the active value:\",FDict)\n",
    "FDict[\"favcolor\"] = \"Orange\"\n",
    "print(\"\\nafter adding th new key;value:\", FDict)\n",
    "FDict[\"favplaces\"] = [\"smoky mountains\", \"chicago\", \"Branson\"]\n",
    "\n",
    "print(\"After adding the list to the dictionary:\",FDict)\n",
    "\n",
    "x = FDict.keys()\n",
    "print(\"Printing keys:\",x)\n",
    "\n",
    "y = FDict.values()\n",
    "print(\"printing values:\",y)\n",
    "\n",
    "SDict = FDict.copy()\n",
    "SDict.pop(\"active\")\n",
    "print(\"2dictionary after pop:\", SDict)\n",
    "\n",
    "SDict.clear()\n",
    "\n",
    "print(\"\\n 2dictionary after clear\",SDict)"
   ]
  }
 ],
 "metadata": {
  "kernelspec": {
   "display_name": "Python 3",
   "language": "python",
   "name": "python3"
  },
  "language_info": {
   "codemirror_mode": {
    "name": "ipython",
    "version": 3
   },
   "file_extension": ".py",
   "mimetype": "text/x-python",
   "name": "python",
   "nbconvert_exporter": "python",
   "pygments_lexer": "ipython3",
   "version": "3.11.3"
  },
  "orig_nbformat": 4
 },
 "nbformat": 4,
 "nbformat_minor": 2
}
