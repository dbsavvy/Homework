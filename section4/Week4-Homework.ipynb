{
 "cells": [
  {
   "cell_type": "code",
   "execution_count": 37,
   "metadata": {},
   "outputs": [
    {
     "name": "stdout",
     "output_type": "stream",
     "text": [
      "Renting a car is more affordable\n"
     ]
    }
   ],
   "source": [
    "#1 if statement\n",
    "#taking input \n",
    "age = int(input(\"Enter age:\"))\n",
    "#checking the age to renting a car\n",
    "if age >= 25:\n",
    "    print(\"Renting a car is more affordable\")\n",
    "else:\n",
    "    print(\"Renting a car is very expensive.\")"
   ]
  },
  {
   "cell_type": "code",
   "execution_count": 38,
   "metadata": {},
   "outputs": [
    {
     "name": "stdout",
     "output_type": "stream",
     "text": [
      "You cannot legally rent a car\n"
     ]
    }
   ],
   "source": [
    "#2 Create and chain an if-else statement\n",
    "age1 = int(input(\"Enter age1:\"))\n",
    "if age1 >= 25:\n",
    "    print(\"Renting a car is more affordable\")\n",
    "elif age1 < 25 and age1 >= 18:\n",
    "    print(\"Renting a car is very expensive\")\n",
    "else:\n",
    "     print(\"You cannot legally rent a car\")\n",
    "\n"
   ]
  },
  {
   "cell_type": "code",
   "execution_count": 39,
   "metadata": {},
   "outputs": [
    {
     "name": "stdout",
     "output_type": "stream",
     "text": [
      "The length of the string is: 43\n",
      "total vowel count 11\n"
     ]
    }
   ],
   "source": [
    "#3 Loop over the following string to (1) count all the characters in the string\n",
    "string = \"The quick brown fox jumps over the lazy dog\"\n",
    "strlen = len(string)\n",
    "count = 0\n",
    "#looping the string\n",
    "for letter in string:\n",
    "   if count != strlen:\n",
    "      count += 1\n",
    "print(\"The length of the string is:\", count) \n",
    "\n",
    "#(2) print out all the vowels\n",
    "vowels = ['a', 'e', 'i', 'o', 'u']\n",
    "total_vowel_count = 0\n",
    "#loop the string\n",
    "for letter in string:\n",
    "   #if letter present in vowels\n",
    "   if letter in vowels:\n",
    "      #increase the count\n",
    "      total_vowel_count = total_vowel_count + 1\n",
    "print(\"total vowel count\", total_vowel_count)"
   ]
  },
  {
   "cell_type": "code",
   "execution_count": 40,
   "metadata": {},
   "outputs": [
    {
     "name": "stdout",
     "output_type": "stream",
     "text": [
      "trousers aqua\n",
      "trousers auburn\n",
      "trousers gunmetal blue\n",
      "trousers Dark Sapphire\n",
      "trousers cerise\n",
      "trousers fuchsia\n",
      "trousers maple\n",
      "trousers burnt sienna\n",
      "blouse aqua\n",
      "blouse auburn\n",
      "blouse gunmetal blue\n",
      "blouse Dark Sapphire\n",
      "blouse cerise\n",
      "blouse fuchsia\n",
      "blouse maple\n",
      "blouse burnt sienna\n",
      "bandana aqua\n",
      "bandana auburn\n",
      "bandana gunmetal blue\n",
      "bandana Dark Sapphire\n",
      "bandana cerise\n",
      "bandana fuchsia\n",
      "bandana maple\n",
      "bandana burnt sienna\n",
      "cumber band aqua\n",
      "cumber band auburn\n",
      "cumber band gunmetal blue\n",
      "cumber band Dark Sapphire\n",
      "cumber band cerise\n",
      "cumber band fuchsia\n",
      "cumber band maple\n",
      "cumber band burnt sienna\n",
      "blazer aqua\n",
      "blazer auburn\n",
      "blazer gunmetal blue\n",
      "blazer Dark Sapphire\n",
      "blazer cerise\n",
      "blazer fuchsia\n",
      "blazer maple\n",
      "blazer burnt sienna\n",
      "vest aqua\n",
      "vest auburn\n",
      "vest gunmetal blue\n",
      "vest Dark Sapphire\n",
      "vest cerise\n",
      "vest fuchsia\n",
      "vest maple\n",
      "vest burnt sienna\n",
      "french beret aqua\n",
      "french beret auburn\n",
      "french beret gunmetal blue\n",
      "french beret Dark Sapphire\n",
      "french beret cerise\n",
      "french beret fuchsia\n",
      "french beret maple\n",
      "french beret burnt sienna\n",
      "scarf aqua\n",
      "scarf auburn\n",
      "scarf gunmetal blue\n",
      "scarf Dark Sapphire\n",
      "scarf cerise\n",
      "scarf fuchsia\n",
      "scarf maple\n",
      "scarf burnt sienna\n",
      "stole aqua\n",
      "stole auburn\n",
      "stole gunmetal blue\n",
      "stole Dark Sapphire\n",
      "stole cerise\n",
      "stole fuchsia\n",
      "stole maple\n",
      "stole burnt sienna\n"
     ]
    }
   ],
   "source": [
    "#4 Write a nested loop that prints out every piece of clothing from the couture list, in every fashionable color from the panettone set\n",
    "\n",
    "#list\n",
    "couture = [\"trousers\", \"blouse\", \"bandana\", \"cumber band\", \"blazer\", \"vest\", \"french beret\", \"scarf\", \"stole\"]\n",
    "#set\n",
    "panettone = {\"cerise\", \"fuchsia\", \"aqua\", \"maple\", \"auburn\", \"burnt sienna\", \"gunmetal blue\", \"Dark Sapphire\"}\n",
    "\n",
    "for cloth in couture:\n",
    "    for color in panettone:\n",
    "        print(cloth,color)\n",
    "\n"
   ]
  },
  {
   "cell_type": "code",
   "execution_count": 41,
   "metadata": {},
   "outputs": [
    {
     "name": "stdout",
     "output_type": "stream",
     "text": [
      "the sum of the number sfrom 1 to 100 is: 99\n"
     ]
    }
   ],
   "source": [
    "#5 Use range as a loop to calculate the sum of all the numbers from 1 to 100\n",
    "#defining a variable\n",
    "sum = 0\n",
    "#using for loop with range function\n",
    "for i in range(1,100):\n",
    "    sum = sum + 1\n",
    "    i += 1\n",
    "#printing the sum    \n",
    "print(\"the sum of the number sfrom 1 to 100 is:\",sum)\n"
   ]
  },
  {
   "cell_type": "code",
   "execution_count": 42,
   "metadata": {},
   "outputs": [
    {
     "name": "stdout",
     "output_type": "stream",
     "text": [
      "the second item in this fruits list: banana\n"
     ]
    }
   ],
   "source": [
    "#6 Print the second item in this fruits list. [\"apple\", \"banana\", \"cherry\"]\n",
    "#defining list\n",
    "list = [\"apple\" , \"banana\" , \"cherry\"]\n",
    "#printing second item from the list\n",
    "print(\"the second item in this fruits list:\",list[1])"
   ]
  },
  {
   "cell_type": "code",
   "execution_count": 43,
   "metadata": {},
   "outputs": [
    {
     "name": "stdout",
     "output_type": "stream",
     "text": [
      "before changing the list value: ['apple', 'banana', 'cherry']\n",
      "after changing the list value: ['kiwi', 'banana', 'cherry']\n"
     ]
    }
   ],
   "source": [
    "#7 Change the value from \"apple\" to \"kiwi\"\n",
    "#defining a list\n",
    "list1 = [\"apple\", \"banana\", \"cherry\"]\n",
    "print(\"before changing the list value:\", list1)\n",
    "#changing the list value\n",
    "list1[0] = \"kiwi\"\n",
    "print(\"after changing the list value:\",list1)"
   ]
  },
  {
   "cell_type": "code",
   "execution_count": 44,
   "metadata": {},
   "outputs": [
    {
     "name": "stdout",
     "output_type": "stream",
     "text": [
      "Before appending orange to the list: ['apple', 'banana', 'cherry']\n",
      "After appending orange to the list: ['apple', 'banana', 'cherry', 'orange']\n"
     ]
    }
   ],
   "source": [
    "#8 Use the append method to add \"orange\" to the fruits list\n",
    "#defing a list\n",
    "list2 = [\"apple\", \"banana\", \"cherry\"]\n",
    "print(\"Before appending orange to the list:\", list2)\n",
    "#using append method\n",
    "list2.append(\"orange\")\n",
    "print(\"After appending orange to the list:\", list2)"
   ]
  },
  {
   "cell_type": "code",
   "execution_count": 45,
   "metadata": {},
   "outputs": [
    {
     "name": "stdout",
     "output_type": "stream",
     "text": [
      "list before insert: ['apple', 'banana', 'cherry']\n",
      "After insert the list is: ['apple', 'lemon', 'banana', 'cherry']\n"
     ]
    }
   ],
   "source": [
    "#9 Use the insert method to add \"lemon\" as the second item in the fruits list.\n",
    "#defing a list\n",
    "list3 = [\"apple\", \"banana\", \"cherry\"]\n",
    "print(\"list before insert:\",list3)\n",
    "#inserting the value as second item\n",
    "list3.insert(1 ,\"lemon\")\n",
    "print(\"After insert the list is:\", list3)\n"
   ]
  },
  {
   "cell_type": "code",
   "execution_count": 46,
   "metadata": {},
   "outputs": [
    {
     "name": "stdout",
     "output_type": "stream",
     "text": [
      "The list before remove method: ['apple', 'banana', 'cherry']\n",
      "List after remove method: ['apple', 'cherry']\n"
     ]
    }
   ],
   "source": [
    "#10 Use the remove method to remove \"banana\" from the fruits list\n",
    "#defining list\n",
    "list4 = [\"apple\", \"banana\", \"cherry\"]\n",
    "print(\"The list before remove method:\", list4)\n",
    "#using remove method to remove banana\n",
    "list4.remove(\"banana\")\n",
    "print(\"List after remove method:\", list4)"
   ]
  },
  {
   "cell_type": "code",
   "execution_count": 47,
   "metadata": {},
   "outputs": [
    {
     "name": "stdout",
     "output_type": "stream",
     "text": [
      "The 2nd item from the list using negative index: melon\n",
      "The 3rd item from the list using negative index: kiwi\n"
     ]
    }
   ],
   "source": [
    "# 11 Use negative indexing to print the 3rd and 2nd to last items in the list.\n",
    "#defining list\n",
    "list5 = [\"apple\", \"banana\", \"cherry\", \"orange\", \"kiwi\", \"melon\", \"mango\"]\n",
    "#using -2 negative index\n",
    "print(\"The 2nd item from the list using negative index:\", list5[-2])\n",
    "#using -3 negative index\n",
    "print(\"The 3rd item from the list using negative index:\", list5[-3])"
   ]
  },
  {
   "cell_type": "code",
   "execution_count": 48,
   "metadata": {},
   "outputs": [
    {
     "name": "stdout",
     "output_type": "stream",
     "text": [
      "3rd,4th and 5th element from the list: ['cherry', 'orange', 'kiwi']\n"
     ]
    }
   ],
   "source": [
    "#12 Use a range of indexes to print the third, fourth, and fifth item in the list\n",
    "#defining list\n",
    "list6 = [\"apple\", \"banana\", \"cherry\", \"orange\", \"kiwi\", \"melon\", \"mango\"]\n",
    "#using range of indexes to print 3, 4 and 5\n",
    "print(\"3rd,4th and 5th element from the list:\", list6[2:5])"
   ]
  },
  {
   "cell_type": "code",
   "execution_count": 49,
   "metadata": {},
   "outputs": [
    {
     "name": "stdout",
     "output_type": "stream",
     "text": [
      "counting number of items in the list: 1\n"
     ]
    }
   ],
   "source": [
    "#13 Use the correct syntax to print the number of items in the list.\n",
    "#defining the list\n",
    "list7 = [\"apple\", \"banana\", \"cherry\", \"orange\", \"kiwi\", \"melon\", \"mango\"]\n",
    "#count number of items in the list\n",
    "c = list7.count(\"kiwi\")\n",
    "print(\"counting number of items in the list:\",c)\n",
    "#count = 0 \n",
    "#for item in list7:\n",
    "#    if item in list7:\n",
    "#        count = count + 1\n",
    "#print(\"The number of items in the list:\", count)\n"
   ]
  },
  {
   "cell_type": "code",
   "execution_count": 50,
   "metadata": {},
   "outputs": [
    {
     "name": "stdout",
     "output_type": "stream",
     "text": [
      "The list order after sort in reverse: ['mango', 'melon', 'kiwi', 'orange', 'cherry', 'banana', 'apple']\n"
     ]
    }
   ],
   "source": [
    "#14 Use the correct syntax to sort this list in reverse order\n",
    "#defining the list\n",
    "list8 = [\"apple\", \"banana\", \"cherry\", \"orange\", \"kiwi\", \"melon\", \"mango\"]\n",
    "#using sort function\n",
    "list8.reverse()\n",
    "print(\"The list order after sort in reverse:\", list8)\n",
    "\n"
   ]
  },
  {
   "attachments": {},
   "cell_type": "markdown",
   "metadata": {},
   "source": [
    "## 1.What does one need to do to use a module?\n",
    "To simplify the process and make it more effective, developers leverage modular programming. A method of breaking large coding tasks into smaller, more manageable subtasks.\n",
    "## 2.Name a Module (not the DateTime Nodule) we looked at and write a line or 2 of code as an example using this module.\n",
    "import Random as ran\n",
    "print(ran.randrange())\n",
    "## 3.What is a benefit of using Exception handling?\n",
    "exceptions helps you to remind yourself of what the program expects. It clarifies the code and enhances readability.\n",
    "## 4.what are the 4 components used for Python Exception Handling?\n",
    "try\n",
    "except\n",
    "else\n",
    "finally\n",
    "## 5.NumPy arrays are like what Python data type?\n",
    "By defaulf floating point\n",
    "NumPy generally returns elements of arrays as array scalars (a scalar with an associated dtype).\n",
    "ex: The data type can be specified using a string, like 'f' for float, 'i' for integer etc. \n",
    "## 6.What is one of the main benefits of using NumPy arrays.\n",
    "Numpy arrays occupy less memory\n",
    "## 7.What is one of the main requirements about the 'dtype' of NumPy arrays?\n",
    "The default data type of a NumPy Array is floating point(np.float64), you can explicitly specify which data type you want using the dtype keyword.\n",
    "\n",
    "Type of the data (integer, float, Python object, etc.)\n",
    "## 8.Of the 10 uses of NumPy, name 2.\n",
    "Arithmetic operations\n",
    "statistical operations\n",
    "## 9.Name one of the other libraries we'll use with NumPy?\n",
    "Pandas\n",
    "SciPy\n",
    "## 10.What is the shape of NumPy arrays?\n",
    "To find the shape(number of all elements in each dimension) with .size()\n",
    "## 11.What is a Tensor?\n",
    "Tensor can be defined as a data container. It can be thought of as a multi-dimensional array. Numpy np. array can be used to create tensor of different dimensions such as 1D, 2D, 3D etc. A vector is a 1D tensor, a matrix is a 2D tensor.\n",
    "## 12.Name a reason why it's better using NumPy for Data Analysis than using a Python List?\n",
    "compare to lists NumPy usesarrays are: \n",
    "using less memory\n",
    "fast\n",
    "convenient\n",
    "## 13.When creating an \"empty\" array, where do the elements come from?\n",
    "Depends on the state of the memory"
   ]
  },
  {
   "cell_type": "code",
   "execution_count": 71,
   "metadata": {},
   "outputs": [
    {
     "name": "stdout",
     "output_type": "stream",
     "text": [
      "current date and time.... 2023-05-12 01:00:38.473412\n",
      "month name: May\n"
     ]
    }
   ],
   "source": [
    "#1 Use the DateTime module to get Current Date and Time, and save it to a variable. Then extract just the Full month name form that variable.\n",
    "#importing datetime module\n",
    "import datetime as dt\n",
    "#get current date and time\n",
    "x = dt.datetime.now()\n",
    "print(\"current date and time....\",x)\n",
    "#print current month name:\n",
    "print(\"month name:\", x.strftime(\"%B\"))\n",
    "\n",
    "        "
   ]
  },
  {
   "cell_type": "code",
   "execution_count": 72,
   "metadata": {},
   "outputs": [
    {
     "name": "stdout",
     "output_type": "stream",
     "text": [
      "first-name! dhana Happy Thursday!\n",
      "first-name! lakshmi Happy sunday!\n"
     ]
    }
   ],
   "source": [
    "#2 Functions\n",
    "#defining function with two arguments\n",
    "\n",
    "def simplefun(firstname , dayname = \"sunday\"):\n",
    "    #print greeting using parameters\n",
    "    print(f\"first-name! {firstname} Happy {dayname}!\")\n",
    "\n",
    "#calling function with two arguments\n",
    "simplefun(\"dhana\" , \"Thursday\")   \n",
    "#calling function with one argument\n",
    "simplefun(firstname = \"lakshmi\")\n",
    "\n",
    "    \n"
   ]
  },
  {
   "cell_type": "code",
   "execution_count": 73,
   "metadata": {},
   "outputs": [
    {
     "name": "stdout",
     "output_type": "stream",
     "text": [
      "List index is out of range\n",
      "successfully used try-except-else-finally\n"
     ]
    }
   ],
   "source": [
    "#3  Python exception errors\n",
    "#try lock for test a block of code\n",
    "try:\n",
    "    list = [1,2,3]\n",
    "    list[10]\n",
    "#The except block for handling the error\n",
    "except:\n",
    "    print(\"List index is out of range\")   \n",
    "#else block to execute the code when there is no error\n",
    "else:\n",
    "    print(\"there is no error\")  \n",
    "#This block lets you execute code, regarsless of the result of the try and except blocks\n",
    "finally:\n",
    "    print(\"successfully used try-except-else-finally\")\n"
   ]
  }
 ],
 "metadata": {
  "kernelspec": {
   "display_name": "Python 3",
   "language": "python",
   "name": "python3"
  },
  "language_info": {
   "codemirror_mode": {
    "name": "ipython",
    "version": 3
   },
   "file_extension": ".py",
   "mimetype": "text/x-python",
   "name": "python",
   "nbconvert_exporter": "python",
   "pygments_lexer": "ipython3",
   "version": "3.11.3"
  },
  "orig_nbformat": 4
 },
 "nbformat": 4,
 "nbformat_minor": 2
}
