{
 "cells": [
  {
   "cell_type": "code",
   "execution_count": 1,
   "metadata": {},
   "outputs": [
    {
     "name": "stdout",
     "output_type": "stream",
     "text": [
      "Renting a car is more affordable\n"
     ]
    }
   ],
   "source": [
    "#1 if statement\n",
    "age = int(input(\"Enter age:\"))\n",
    "\n",
    "if age >= 25:\n",
    "    print(\"Renting a car is more affordable\")\n",
    "elif age < 25:\n",
    "    print(\"Renting a car is very expensive.\")"
   ]
  },
  {
   "cell_type": "code",
   "execution_count": 12,
   "metadata": {},
   "outputs": [
    {
     "name": "stdout",
     "output_type": "stream",
     "text": [
      "You cannot legally rent a car\n"
     ]
    }
   ],
   "source": [
    "#2 Create and chain an if-else statement\n",
    "age1 = int(input(\"Enter age1:\"))\n",
    "if age1 >= 25:\n",
    "    print(\"Renting a car is more affordable\")\n",
    "if age1 < 25 and age1 >= 18:\n",
    "    print(\"Renting a car is very expensive\")\n",
    "if age1 < 18:\n",
    "     print(\"You cannot legally rent a car\")\n",
    "\n"
   ]
  },
  {
   "cell_type": "code",
   "execution_count": 6,
   "metadata": {},
   "outputs": [
    {
     "name": "stdout",
     "output_type": "stream",
     "text": [
      "The length of the string is: 43\n",
      "total vowel count 11\n"
     ]
    }
   ],
   "source": [
    "#3 Loop over the following string to (1) count all the characters in the string\n",
    "string = \"The quick brown fox jumps over the lazy dog\"\n",
    "strlen = len(string)\n",
    "count = 0\n",
    "#looping the string\n",
    "for letter in string:\n",
    "   if count != strlen:\n",
    "      count += 1\n",
    "print(\"The length of the string is:\", count) \n",
    "\n",
    "#(2) print out all the vowels\n",
    "vowels = ['a', 'e', 'i', 'o', 'u']\n",
    "total_vowel_count = 0\n",
    "#loop the string\n",
    "for letter in string:\n",
    "   #if letter present in vowels\n",
    "   if letter in vowels:\n",
    "      #increase the count\n",
    "      total_vowel_count = total_vowel_count + 1\n",
    "print(\"total vowel count\", total_vowel_count)"
   ]
  },
  {
   "cell_type": "code",
   "execution_count": null,
   "metadata": {},
   "outputs": [],
   "source": [
    "#4 Write a nested loop that prints out every piece of clothing from the couture list, in every fashionable color from the panettone set\n",
    "\n",
    "#list\n",
    "couture = [\"trousers\", \"blouse\", \"bandana\", \"cumber band\", \"blazer\", \"vest\", \"french beret\", \"scarf\", \"stole\"]\n",
    "#set\n",
    "panettone = {\"cerise\", \"fuchsia\", \"aqua\", \"maple\", \"auburn\", \"burnt sienna\", \"gunmetal blue\", \"Dark Sapphire\"}\n",
    "\n",
    "\n"
   ]
  },
  {
   "cell_type": "code",
   "execution_count": 12,
   "metadata": {},
   "outputs": [
    {
     "name": "stdout",
     "output_type": "stream",
     "text": [
      "the sum of the number sfrom 1 to 100 is: 99\n"
     ]
    }
   ],
   "source": [
    "#5 Use range as a loop to calculate the sum of all the numbers from 1 to 100\n",
    "#defining a variable\n",
    "sum = 0\n",
    "#using for loop with range function\n",
    "for i in range(1,100):\n",
    "    sum = sum + 1\n",
    "    i += 1\n",
    "#printing the sum    \n",
    "print(\"the sum of the number sfrom 1 to 100 is:\",sum)\n"
   ]
  },
  {
   "cell_type": "code",
   "execution_count": 13,
   "metadata": {},
   "outputs": [
    {
     "name": "stdout",
     "output_type": "stream",
     "text": [
      "the second item in this fruits list: banana\n"
     ]
    }
   ],
   "source": [
    "#6 Print the second item in this fruits list. [\"apple\", \"banana\", \"cherry\"]\n",
    "#defining list\n",
    "list = [\"apple\" , \"banana\" , \"cherry\"]\n",
    "#printing second item from the list\n",
    "print(\"the second item in this fruits list:\",list[1])"
   ]
  },
  {
   "cell_type": "code",
   "execution_count": 14,
   "metadata": {},
   "outputs": [
    {
     "name": "stdout",
     "output_type": "stream",
     "text": [
      "before changing the list value: ['apple', 'banana', 'cherry']\n",
      "after changing the list value: ['kiwi', 'banana', 'cherry']\n"
     ]
    }
   ],
   "source": [
    "#7 Change the value from \"apple\" to \"kiwi\"\n",
    "#defining a list\n",
    "list1 = [\"apple\", \"banana\", \"cherry\"]\n",
    "print(\"before changing the list value:\", list1)\n",
    "#changing the list value\n",
    "list1[0] = \"kiwi\"\n",
    "print(\"after changing the list value:\",list1)"
   ]
  },
  {
   "cell_type": "code",
   "execution_count": 16,
   "metadata": {},
   "outputs": [
    {
     "name": "stdout",
     "output_type": "stream",
     "text": [
      "Before appending orange to the list: ['apple', 'banana', 'cherry']\n",
      "After appending orange to the list: ['apple', 'banana', 'cherry', 'orange']\n"
     ]
    }
   ],
   "source": [
    "#8 Use the append method to add \"orange\" to the fruits list\n",
    "#defing a list\n",
    "list2 = [\"apple\", \"banana\", \"cherry\"]\n",
    "print(\"Before appending orange to the list:\", list2)\n",
    "#using append method\n",
    "list2.append(\"orange\")\n",
    "print(\"After appending orange to the list:\", list2)"
   ]
  },
  {
   "cell_type": "code",
   "execution_count": 2,
   "metadata": {},
   "outputs": [
    {
     "name": "stdout",
     "output_type": "stream",
     "text": [
      "list before insert: ['apple', 'banana', 'cherry']\n",
      "After insert the list is: ['apple', 'lemon', 'banana', 'cherry']\n"
     ]
    }
   ],
   "source": [
    "#9 Use the insert method to add \"lemon\" as the second item in the fruits list.\n",
    "#defing a list\n",
    "list3 = [\"apple\", \"banana\", \"cherry\"]\n",
    "print(\"list before insert:\",list3)\n",
    "#inserting the value as second item\n",
    "list3.insert(1 ,\"lemon\")\n",
    "print(\"After insert the list is:\", list3)\n"
   ]
  },
  {
   "cell_type": "code",
   "execution_count": 3,
   "metadata": {},
   "outputs": [
    {
     "name": "stdout",
     "output_type": "stream",
     "text": [
      "The list before remove method: ['apple', 'banana', 'cherry']\n",
      "List after remove method: ['apple', 'cherry']\n"
     ]
    }
   ],
   "source": [
    "#10 Use the remove method to remove \"banana\" from the fruits list\n",
    "#defining list\n",
    "list4 = [\"apple\", \"banana\", \"cherry\"]\n",
    "print(\"The list before remove method:\", list4)\n",
    "#using remove method to remove banana\n",
    "list4.remove(\"banana\")\n",
    "print(\"List after remove method:\", list4)"
   ]
  },
  {
   "cell_type": "code",
   "execution_count": 4,
   "metadata": {},
   "outputs": [
    {
     "name": "stdout",
     "output_type": "stream",
     "text": [
      "The 2nd item from the list using negative index: melon\n",
      "The 3rd item from the list using negative index: kiwi\n"
     ]
    }
   ],
   "source": [
    "# 11 Use negative indexing to print the 3rd and 2nd to last items in the list.\n",
    "#defining list\n",
    "list5 = [\"apple\", \"banana\", \"cherry\", \"orange\", \"kiwi\", \"melon\", \"mango\"]\n",
    "#using -2 negative index\n",
    "print(\"The 2nd item from the list using negative index:\", list5[-2])\n",
    "#using -3 negative index\n",
    "print(\"The 3rd item from the list using negative index:\", list5[-3])"
   ]
  },
  {
   "cell_type": "code",
   "execution_count": 8,
   "metadata": {},
   "outputs": [
    {
     "name": "stdout",
     "output_type": "stream",
     "text": [
      "3rd,4th and 5th element from the list: ['cherry', 'orange', 'kiwi']\n"
     ]
    }
   ],
   "source": [
    "#12 Use a range of indexes to print the third, fourth, and fifth item in the list\n",
    "#defining list\n",
    "list6 = [\"apple\", \"banana\", \"cherry\", \"orange\", \"kiwi\", \"melon\", \"mango\"]\n",
    "#using range of indexes to print 3, 4 and 5\n",
    "print(\"3rd,4th and 5th element from the list:\", list6[2:5])"
   ]
  },
  {
   "cell_type": "code",
   "execution_count": 17,
   "metadata": {},
   "outputs": [
    {
     "name": "stdout",
     "output_type": "stream",
     "text": [
      "counting number of items in the list: 1\n",
      "The number of items in the list: 7\n"
     ]
    }
   ],
   "source": [
    "#13 Use the correct syntax to print the number of items in the list.\n",
    "#defining the list\n",
    "list7 = [\"apple\", \"banana\", \"cherry\", \"orange\", \"kiwi\", \"melon\", \"mango\"]\n",
    "#count number of items in the list\n",
    "c = list7.count(\"kiwi\")\n",
    "print(\"counting number of items in the list:\",c)\n",
    "count = 0 \n",
    "for item in list7:\n",
    "    if item in list7:\n",
    "        count = count + 1\n",
    "print(\"The number of items in the list:\", count)\n"
   ]
  },
  {
   "cell_type": "code",
   "execution_count": 18,
   "metadata": {},
   "outputs": [
    {
     "name": "stdout",
     "output_type": "stream",
     "text": [
      "The list order after sort in reverse: ['mango', 'melon', 'kiwi', 'orange', 'cherry', 'banana', 'apple']\n"
     ]
    }
   ],
   "source": [
    "#14 Use the correct syntax to sort this list in reverse order\n",
    "#defining the list\n",
    "list8 = [\"apple\", \"banana\", \"cherry\", \"orange\", \"kiwi\", \"melon\", \"mango\"]\n",
    "#using sort function\n",
    "list8.reverse()\n",
    "print(\"The list order after sort in reverse:\", list8)\n",
    "\n"
   ]
  },
  {
   "attachments": {},
   "cell_type": "markdown",
   "metadata": {},
   "source": [
    "## 1.What does one need to do to use a module?\n",
    "\n",
    "## 2.Name a Module (not the DateTime Nodule) we looked at and write a line or 2 of code as an example using this module.\n",
    "## 3.What is a benefit of using Exception handling?\n",
    "## 4.what are the 4 components used for Python Exception Handling?\n",
    "## 5.NumPy arrays are like what Python data type?\n",
    "## 6.What is one of the main benefits of using NumPy arrays.\n",
    "## 7.What is one of the main requirements about the 'dtype' of NumPy arrays?\n",
    "## 8.Of the 10 uses of NumPy, name 2.\n",
    "## 9.Name one of the other libraries we'll use with NumPy?\n",
    "## 10.What is the shape of NumPy arrays?\n",
    "## 11.What is a Tensor?\n",
    "## 12.Name a reason why it's better using NumPy for Data Analysis than using a Python List?\n",
    "## 13.When creating an \"empty\" array, where do the elements come from?"
   ]
  },
  {
   "cell_type": "code",
   "execution_count": null,
   "metadata": {},
   "outputs": [],
   "source": [
    "#1 Use the DateTime module to get Current Date and Time, and save it to a variable. Then extract just the Full month name form that variable.\n"
   ]
  },
  {
   "cell_type": "code",
   "execution_count": null,
   "metadata": {},
   "outputs": [],
   "source": [
    "#2 Functions\n"
   ]
  },
  {
   "cell_type": "code",
   "execution_count": null,
   "metadata": {},
   "outputs": [],
   "source": [
    "#3  Python exception errors"
   ]
  }
 ],
 "metadata": {
  "kernelspec": {
   "display_name": "Python 3",
   "language": "python",
   "name": "python3"
  },
  "language_info": {
   "codemirror_mode": {
    "name": "ipython",
    "version": 3
   },
   "file_extension": ".py",
   "mimetype": "text/x-python",
   "name": "python",
   "nbconvert_exporter": "python",
   "pygments_lexer": "ipython3",
   "version": "3.11.3"
  },
  "orig_nbformat": 4
 },
 "nbformat": 4,
 "nbformat_minor": 2
}
