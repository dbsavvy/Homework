{
 "cells": [
  {
   "attachments": {},
   "cell_type": "markdown",
   "metadata": {},
   "source": [
    "1. What does Pandas stand for?\n",
    "\n",
    "An open source python package that is most widely used for data science/data analysis and machine learning tasks.\n",
    "\n",
    "2. What are the 2 collections used in Pandas?\n",
    "\n",
    "Series, Dataframe\n",
    "\n",
    "3. Name 4 things Pandas can do for us.\n",
    "\n",
    "Data cleansing,Data normalization,Data visualization,Data inspection\n",
    "\n",
    "4. To permanently sort a DataFrame, which keyword should one use with the df.sort() method?\n",
    "\n",
    "The keyword inplace which will modify the underlying data if set to true.\n",
    "\n",
    "5. What is a CSV\n",
    "\n",
    "A comma-separated values file is a delimited text file that uses a comma to separate values\n",
    "\n",
    "6. When cleaning data what values do we not like in our data?\n",
    "\n",
    "Null values are not liked as well as incorrect data which could be a string in a integer column."
   ]
  },
  {
   "cell_type": "code",
   "execution_count": 17,
   "metadata": {},
   "outputs": [
    {
     "data": {
      "text/plain": [
       "array([[[ 0,  1],\n",
       "        [ 2,  3],\n",
       "        [ 4,  5]],\n",
       "\n",
       "       [[ 6,  7],\n",
       "        [ 8,  9],\n",
       "        [10, 11]]])"
      ]
     },
     "execution_count": 17,
     "metadata": {},
     "output_type": "execute_result"
    }
   ],
   "source": [
    "#7.Importing numpy and using the reshape method\n",
    "import numpy as np\n",
    "array = np.arange(12).reshape((2,3,2))\n",
    "array"
   ]
  },
  {
   "cell_type": "code",
   "execution_count": 72,
   "metadata": {},
   "outputs": [
    {
     "name": "stdout",
     "output_type": "stream",
     "text": [
      "The result os linspace(): [ 0.  4.  8. 12. 16. 20.]\n"
     ]
    }
   ],
   "source": [
    "#8Using linspace() in numpy\n",
    "import numpy as np\n",
    "array_line = np.linspace(0,20,num = 6)\n",
    "print(\"The result os linspace():\",array_line)"
   ]
  },
  {
   "cell_type": "code",
   "execution_count": 76,
   "metadata": {},
   "outputs": [
    {
     "name": "stdout",
     "output_type": "stream",
     "text": [
      "The result after deepcopy function: [ 0.  4.  8. 12. 16. 20.]\n"
     ]
    }
   ],
   "source": [
    "#9 Ussing deepcopy() function\n",
    "import copy\n",
    "\n",
    "array_copy =  copy.deepcopy(array_line)\n",
    "print(\"The result after deepcopy function:\",array_copy)"
   ]
  },
  {
   "cell_type": "code",
   "execution_count": 81,
   "metadata": {},
   "outputs": [
    {
     "name": "stdout",
     "output_type": "stream",
     "text": [
      "The new array:\n",
      " [[25 16]\n",
      " [11  2]\n",
      " [13  4]\n",
      " [ 7 81]\n",
      " [ 5  6]\n",
      " [11 12]]\n"
     ]
    }
   ],
   "source": [
    "#11 concatenate these 3 arrays into a new array\n",
    "import numpy as np\n",
    "array_1 = ([[25, 16]])\n",
    "array_2 = ([[11, 2], [13, 4]])\n",
    "array_3 = ([[7, 81], [5, 6], [11, 12]])\n",
    "\n",
    "#concatenating 3 arrays into new array\n",
    "newArray = np.concatenate((array_1,array_2,array_3))\n",
    "print(\"The new array:\\n\", newArray)"
   ]
  },
  {
   "cell_type": "code",
   "execution_count": 86,
   "metadata": {},
   "outputs": [
    {
     "name": "stdout",
     "output_type": "stream",
     "text": [
      "Sorted array:\n",
      " [[16 25]\n",
      " [ 2 11]\n",
      " [ 4 13]\n",
      " [ 7 81]\n",
      " [ 5  6]\n",
      " [11 12]]\n"
     ]
    }
   ],
   "source": [
    "#12 sorted sarray\n",
    "#Sort 'newArray' in order into 'sortedArray'\n",
    "sortedArray = np.sort(newArray)\n",
    "print(\"Sorted array:\\n\",sortedArray)\n",
    "\n"
   ]
  },
  {
   "cell_type": "code",
   "execution_count": 87,
   "metadata": {},
   "outputs": [
    {
     "name": "stdout",
     "output_type": "stream",
     "text": [
      "Reshaped array:\n",
      " [[[16 25  2]\n",
      "  [11  4 13]]\n",
      "\n",
      " [[ 7 81  5]\n",
      "  [ 6 11 12]]]\n"
     ]
    }
   ],
   "source": [
    "#13 Reshape the 'sortedArray' array, into a new array called 'reshapedArray', so it has 2 dimensions with a size of 2, 3.\n",
    "reshapedArray = sortedArray.reshape(2,2,3)\n",
    "print(\"Reshaped array:\\n\",reshapedArray)"
   ]
  },
  {
   "cell_type": "code",
   "execution_count": 100,
   "metadata": {},
   "outputs": [
    {
     "name": "stdout",
     "output_type": "stream",
     "text": [
      "unpack1 array is: [16 25  2]\n",
      "unpack2 array is: [11  4 13]\n",
      "unpack3 array is: [ 7 81  5]\n",
      "unpack4 array is: [ 6 11 12]\n"
     ]
    }
   ],
   "source": [
    "#14 Unpack the array tuples from the above 'reshapedArray'  into 4 well named variables. Print the 4 variables.\n",
    "a,b = reshapedArray\n",
    "unpack1,unpack2 = a\n",
    "unpack3,unpack4 = b\n",
    "print(\"unpack1 array is:\", unpack1)\n",
    "print(\"unpack2 array is:\", unpack2)\n",
    "print(\"unpack3 array is:\", unpack3)\n",
    "print(\"unpack4 array is:\", unpack4)\n",
    "\n"
   ]
  },
  {
   "cell_type": "code",
   "execution_count": 9,
   "metadata": {},
   "outputs": [
    {
     "name": "stdout",
     "output_type": "stream",
     "text": [
      "combined array:\n",
      " [ 0  1  2  3  4  5  6  7 10 11 12 13 14 15 16 17 20 21 22 23 24 25 26 27]\n",
      "sec1: 1\n",
      "sec2: [ 2  3  4  5  6  7 10 11 12 13 14 15 16 17 20 21 22 23 24 25 26 27]\n",
      "sec3: [ 3  4  5  6  7 10 11 12 13 14 15]\n",
      "sec4: [22 23 24 25 26 27]\n",
      "sec5: [ 0  1  2  3  4  5  6  7 10 11 12 13 14 15]\n",
      "sec6: [20 22 24 26]\n",
      "Sec7: [27 22 17 12  7  2]\n"
     ]
    }
   ],
   "source": [
    "#15 Combined and sort the following arrays into one called 'comboArray' ...\n",
    "import numpy as np\n",
    "one = ([10, 11, 12, 13, 14, 15, 16, 17])\n",
    "two = ([20, 21, 22, 23, 24, 25, 26, 27])\n",
    "three = ([ 0, 1, 2, 3, 4, 5, 6, 7])\n",
    "#concatenate 3 arrays into one array\n",
    "four = np.concatenate((one,two,three))\n",
    "#combo array\n",
    "comboArray = np.sort(four)\n",
    "print(\"combined array:\\n\",comboArray)\n",
    "\n",
    "\n",
    "#16 Take 'comboArray' and perform the following slicing activities:\n",
    "#print sec1 - the 2nd element\n",
    "print(\"sec1:\",comboArray[1])\n",
    "#print sec2 - all elements from the 3rd element to the last\n",
    "print(\"sec2:\",comboArray[2:])\n",
    "#print sec3 - all elements from the 4th to the 14th elements\n",
    "print(\"sec3:\",comboArray[3:14])\n",
    "#print sec4 - the last 6 elements\n",
    "print(\"sec4:\",comboArray[-6:])\n",
    "#print sec5 - all element from #0 up to and including #15, using the negative number method, i.e. taking a section from the end.\n",
    "print(\"sec5:\",comboArray[-28:-10])\n",
    "#print sec6 - from #20 every even element to the end\n",
    "print(\"sec6:\",np.arange(comboArray[16],comboArray[23],2))\n",
    "#print sec7 - from the last element moving forward, every 5th element.\n",
    "print(\"Sec7:\",np.arange(comboArray[-1],comboArray[-24],-5))"
   ]
  },
  {
   "cell_type": "code",
   "execution_count": 10,
   "metadata": {},
   "outputs": [
    {
     "name": "stdout",
     "output_type": "stream",
     "text": [
      "  Ingredients  Quantity   Unit\n",
      "0       Flour         4   cups\n",
      "1        Milk         1    cup\n",
      "2        Eggs         2  large\n",
      "3        Spam         1    can\n",
      "Ingredients     Eggs\n",
      "Quantity           2\n",
      "Unit           large\n",
      "Name: 2, dtype: object\n"
     ]
    }
   ],
   "source": [
    "#20 Using `Series`, create a `DataFrame` that looks like this:\n",
    "import pandas as pd\n",
    "\n",
    "Ingredients = pd.Series([\"Flour\", \"Milk\", \"Eggs\", \"Spam\"], name = \"Ingredients\")\n",
    "Quantity = pd.Series([4, 1, 2, 1], name = \"Quantity\")\n",
    "Unit = pd.Series([\"cups\", \"cup\", \"large\",\"can\"], name = \"Unit\")\n",
    "\n",
    "shoppinglist_DF = pd.concat([Ingredients, Quantity, Unit], axis = 1)\n",
    "print(shoppinglist_DF)\n",
    "print(shoppinglist_DF.loc[2])\n",
    "\n"
   ]
  },
  {
   "cell_type": "code",
   "execution_count": 11,
   "metadata": {},
   "outputs": [
    {
     "name": "stdout",
     "output_type": "stream",
     "text": [
      "      Name  Height Qualification  address  Age        Pets           sport\n",
      "0      Jai     5.1           Msc    Delhi   21         Dog           Darts\n",
      "1  janusha     6.2            MA     Doha   23       Bunny      Basketball\n",
      "2   Gaurav     5.1           Msc  Chennai   24  Chinchilla  PaddleBoarding\n",
      "3     Anuj     5.2           Msc   Dakhar   21      Parrot         Cricket\n"
     ]
    }
   ],
   "source": [
    "#21 Take this data and create a DataFrame named studentData\n",
    "\n",
    "students = {'Name': ['Jai', 'janusha', 'Gaurav', 'Anuj'],\n",
    "            'Height': [5.1, 6.2, 5.1, 5.2],\n",
    "            'Qualification': ['Msc', 'MA', 'Msc', 'Msc'],\n",
    "            'address': ['Delhi', 'Doha', 'Chennai', 'Dakhar'],\n",
    "            'Age': [21, 23, 24, 21],\n",
    "            'Pets': ['Dog', 'Bunny', 'Chinchilla', 'Parrot'],\n",
    "            'sport': ['Darts', 'Basketball', 'PaddleBoarding', 'Cricket']\n",
    "        }\n",
    "studentData = pd.DataFrame(students)\n",
    "print(studentData)"
   ]
  },
  {
   "cell_type": "code",
   "execution_count": 12,
   "metadata": {},
   "outputs": [
    {
     "name": "stdout",
     "output_type": "stream",
     "text": [
      "      Name  Height Qualification  address  Age        Pets           sport   \n",
      "0      Jai     5.1           Msc    Delhi   21         Dog           Darts  \\\n",
      "1  janusha     6.2            MA     Doha   23       Bunny      Basketball   \n",
      "2   Gaurav     5.1           Msc  Chennai   24  Chinchilla  PaddleBoarding   \n",
      "3     Anuj     5.2           Msc   Dakhar   21      Parrot         Cricket   \n",
      "\n",
      "        deserts  \n",
      "0     ice cream  \n",
      "1  Cashew Fudge  \n",
      "2       waffels  \n",
      "3  Carrot Halwa  \n"
     ]
    }
   ],
   "source": [
    "#22 Add a new column to the DataFrame with the following deserts:\n",
    "#        [\"ice cream\", \"Cashew Fudge\", \"waffels\", \"Carrot Halwa\"]\n",
    "\n",
    "deserts = [\"ice cream\", \"Cashew Fudge\", \"waffels\", \"Carrot Halwa\"]\n",
    "studentData = studentData.assign(deserts = deserts)\n",
    "print(studentData)"
   ]
  },
  {
   "cell_type": "code",
   "execution_count": 13,
   "metadata": {},
   "outputs": [
    {
     "name": "stdout",
     "output_type": "stream",
     "text": [
      "sorted DF\n",
      "       Name  Height Qualification  address  Age        Pets           sport   \n",
      "3     Anuj     5.2           Msc   Dakhar   21      Parrot         Cricket  \\\n",
      "2   Gaurav     5.1           Msc  Chennai   24  Chinchilla  PaddleBoarding   \n",
      "0      Jai     5.1           Msc    Delhi   21         Dog           Darts   \n",
      "1  janusha     6.2            MA     Doha   23       Bunny      Basketball   \n",
      "\n",
      "        deserts  \n",
      "3  Carrot Halwa  \n",
      "2       waffels  \n",
      "0     ice cream  \n",
      "1  Cashew Fudge  \n"
     ]
    }
   ],
   "source": [
    "#23 Sort the 'studentData' DataFrame in Ascending order -- Sorting by column 'Name' and then \"address\"\n",
    "\n",
    "studentData.sort_values(by = [\"Name\",\"address\"], inplace = True)\n",
    "print(\"sorted DF\\n\", studentData)"
   ]
  },
  {
   "cell_type": "code",
   "execution_count": 14,
   "metadata": {},
   "outputs": [
    {
     "data": {
      "text/html": [
       "<div>\n",
       "<style scoped>\n",
       "    .dataframe tbody tr th:only-of-type {\n",
       "        vertical-align: middle;\n",
       "    }\n",
       "\n",
       "    .dataframe tbody tr th {\n",
       "        vertical-align: top;\n",
       "    }\n",
       "\n",
       "    .dataframe thead th {\n",
       "        text-align: right;\n",
       "    }\n",
       "</style>\n",
       "<table border=\"1\" class=\"dataframe\">\n",
       "  <thead>\n",
       "    <tr style=\"text-align: right;\">\n",
       "      <th></th>\n",
       "      <th>Cows</th>\n",
       "      <th>Goats</th>\n",
       "    </tr>\n",
       "  </thead>\n",
       "  <tbody>\n",
       "    <tr>\n",
       "      <th>Year1</th>\n",
       "      <td>12</td>\n",
       "      <td>22</td>\n",
       "    </tr>\n",
       "    <tr>\n",
       "      <th>Year2</th>\n",
       "      <td>20</td>\n",
       "      <td>19</td>\n",
       "    </tr>\n",
       "  </tbody>\n",
       "</table>\n",
       "</div>"
      ],
      "text/plain": [
       "       Cows  Goats\n",
       "Year1    12     22\n",
       "Year2    20     19"
      ]
     },
     "execution_count": 14,
     "metadata": {},
     "output_type": "execute_result"
    }
   ],
   "source": [
    "#24 Save this `DataFrame` here below to disc as a `.CSV` file with the name `cows_and_goats.csv`:\n",
    "import pandas as pd\n",
    "df = pd.DataFrame({'Cows': [12, 20], 'Goats': [22, 19]}, index=['Year1', 'Year2'])\n",
    "df.to_csv(\"cows_and_goats.csv\",index = False)\n",
    "df"
   ]
  },
  {
   "cell_type": "code",
   "execution_count": null,
   "metadata": {},
   "outputs": [],
   "source": []
  },
  {
   "cell_type": "code",
   "execution_count": 15,
   "metadata": {},
   "outputs": [
    {
     "name": "stdout",
     "output_type": "stream",
     "text": [
      "veggies list: \n",
      "           Name Favorite\n",
      "0      Brinjal      yes\n",
      "1  Lady finger      yes\n",
      "2       potato      yes\n",
      "3  Cauliflower       no\n",
      "new veggie list:\n",
      "            Name Favorite      green_leafs\n",
      "0      Brinjal      yes          spinach\n",
      "1  Lady finger      yes  bressel sprouts\n",
      "2       potato      yes           celery\n",
      "3  Cauliflower       no             kale\n"
     ]
    }
   ],
   "source": [
    "#25 (A) Using Pandas, make your own .CSV file with data on vegetables and save it. (B) Using Pandas, make a change to your CSV file, and save a copy with a different name.\n",
    "import pandas as pd\n",
    "veggies = {\n",
    "    \"Name\": [\"Brinjal\",\"Lady finger\",\"potato\",\"Cauliflower\"],\n",
    "    \"Favorite\": [\"yes\",\"yes\",\"yes\",\"no\"],\n",
    "}\n",
    "veggiesDF = pd.DataFrame(veggies)\n",
    "print(\"veggies list: \\n\",veggiesDF)\n",
    "# Save veggie dataframe to CSV\n",
    "veggiesDF.to_csv(\"Veggies_list.csv\",index=False)\n",
    "\n",
    "#using pandas make a change to your csv file and sav a copy with different name\n",
    "new_veggie_list = pd.read_csv(\"Veggies_list.csv\")\n",
    "green_leafs = [\"spinach\",\"bressel sprouts\",\"celery\",\"kale\"]\n",
    "    \n",
    "new_veggie_list[\"green_leafs\"] = green_leafs\n",
    "#save new veggies list to new csv file\n",
    "new_veggie_list.to_csv(\"new_veggie_list.csv\",index=False)\n",
    "print(\"new veggie list:\\n \", new_veggie_list)\n"
   ]
  }
 ],
 "metadata": {
  "kernelspec": {
   "display_name": "Python 3",
   "language": "python",
   "name": "python3"
  },
  "language_info": {
   "codemirror_mode": {
    "name": "ipython",
    "version": 3
   },
   "file_extension": ".py",
   "mimetype": "text/x-python",
   "name": "python",
   "nbconvert_exporter": "python",
   "pygments_lexer": "ipython3",
   "version": "3.11.3"
  },
  "orig_nbformat": 4
 },
 "nbformat": 4,
 "nbformat_minor": 2
}
