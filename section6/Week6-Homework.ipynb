{
 "cells": [
  {
   "attachments": {},
   "cell_type": "markdown",
   "metadata": {},
   "source": []
  },
  {
   "attachments": {},
   "cell_type": "markdown",
   "metadata": {},
   "source": [
    "1.\tCreate a definitive problem statement to be solved with data analytics.  \n",
    "•\tYour statement needs to be written.\n",
    "•\t The statement should be 1-3 sentences.\n",
    "•\tProvide a brief overview of the topic if context is necessary to help understand the problem statement.\n",
    "\n",
    "\n",
    "    Problem Statement: 1.Which states have the highest traffic death rates per vehicle registration?\n",
    "                        2.The correlation between the population size of a state and the vehicle registration per state??\n",
    "\n",
    "\n",
    "2.\tProvide your datasets.\n",
    "•\tIn .csv / sql format\n",
    "•\t-or- a website that will be accessed with webscraping/API.  If possible, include the Python code to be used for accessing this data.\n",
    "•\tProvide an explanation of the datasets you submit.\n",
    "\n",
    "    Getting motor vehicle deaths by state\n",
    "    https://injuryfacts.nsc.org/state-data/motor-vehicle-deaths-by-state/\n",
    "    From above link I have collected the motor vehicle deaths by state from 2016 to 2021.\n",
    "    source:Motor-vehicle traffic deaths are from the National Highway Traffic Safety Administration. All motor-vehicle deaths are from the National Center for Health Statistics; motor-vehicle mileage and registration are from the Federal Highway Administration; population data are from the U.S. Census Bureau.\n",
    "\n",
    "    Vehicle Registration counts by state\n",
    "    https://afdc.energy.gov/vehicle-registration?year=2016\n",
    "    From above link I have collected the vehicle registration counts by state from 2016 to 2021.\n",
    "    In this site they have drop down option to select the year. I have selected the year 2016 and copy the data to excel and the same process for 2017,2018,2019 and 2020.\n",
    "    This page provides approximate light-duty vehicle registration counts derived by the National Renewable Energy Laboratory with data from Experian Information Solutions. Counts are rounded to the closest 100 vehicles. Fuel types are based on vehicle identification numbers (VINs), which do not reflect aftermarket conversions to use different fuels or power sources.\n",
    "\n",
    "    United states by population by state from 2016 to 2019\n",
    "    https://data.census.gov/table?q=united+states+population+by+state&tid=PEPPOP2019.PEPANNRES\n",
    "    From above link I have collected the population data available from 2016 to 2019.\n",
    "\n",
    "    United states by population by state 2020\n",
    "    https://www.kaggle.com/datasets/alexandrepetit881234/us-population-by-state\n",
    "    From above link I have collected the population data available in 2020.\n",
    "\n",
    "    United states by population by state 2021\n",
    "    https://data.ers.usda.gov/reports.aspx?ID=17827\n",
    "    From above link I have collected the population data available in 2021.\n",
    "\n",
    "    By using all above data sets I have created Excel file having total states, traffic deaths, vehicle registration and population from 2016 to 2021.\n",
    "\n",
    "3.\tDescribe your plan on how to use this data to answer your problem statement. \n",
    "•\tCreate a brief write-up (typically 3-5 sentences) describing your plan of what you intend to do with that data to solve your question.\n",
    "\n",
    "    To answer, Which states have the highest traffic death rates per vehicle registration, my plan is to create a pivot table in excel which is having all states with Traffic deaths and I will create a graph to compare which states having the highest death rates per vehicle registration.\n",
    "    To answer, the correlation between the population size of a state and the vehicle registration per state??\n",
    "    my plan is to create a pivot table with all the states with population size and vehicle registration to see the correlation.\n",
    "\n",
    "    I'm planning to create a table using SQL by importing above data.\n"
   ]
  }
 ],
 "metadata": {
  "language_info": {
   "name": "python"
  },
  "orig_nbformat": 4
 },
 "nbformat": 4,
 "nbformat_minor": 2
}
